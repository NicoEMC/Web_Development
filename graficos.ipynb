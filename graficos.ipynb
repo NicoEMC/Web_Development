{
 "cells": [
  {
   "cell_type": "code",
   "execution_count": 2,
   "metadata": {},
   "outputs": [],
   "source": [
    "import pandas as pd\n",
    "import matplotlib\n",
    "import matplotlib.dates as mdates  # Asegúrate de importar esta librería\n",
    "matplotlib.use('Agg')  # Usar backend sin GUI\n",
    "import matplotlib.pyplot as plt\n",
    "from matplotlib.ticker import MaxNLocator\n",
    "import numpy as np"
   ]
  },
  {
   "cell_type": "code",
   "execution_count": 1,
   "metadata": {},
   "outputs": [
    {
     "name": "stdout",
     "output_type": "stream",
     "text": [
      "   Valores  Maximos  Medios  Mínimos\n",
      "0      100      300     200       50\n",
      "1      150      450     350      120\n",
      "2      200      200     180       90\n",
      "3      250      300     290      180\n",
      "4      300      700     500      250\n",
      "5      400      900     800      400\n",
      "6      500     1000     750      450\n",
      "7      600     1200     900      600\n",
      "8      700     1400    1000      800\n",
      "9      800     1600    1300      900\n"
     ]
    }
   ],
   "source": [
    "import pandas as pd\n",
    "\n",
    "# Crear un DataFrame con más de una variable numérica\n",
    "data = {\n",
    "    'Valores': [100, 150, 200, 250, 300, 400, 500, 600, 700, 800],\n",
    "    'Maximos': [300, 450, 200, 300, 700, 900, 1000, 1200, 1400, 1600],\n",
    "    'Medios': [200, 350, 180, 290, 500, 800, 750, 900, 1000, 1300],\n",
    "    'Mínimos': [50, 120, 90, 180, 250, 400, 450, 600, 800, 900]\n",
    "}\n",
    "\n",
    "df = pd.DataFrame(data)\n",
    "\n",
    "# Guardar como CSV para pruebas\n",
    "df.to_csv(r\"C:\\Users\\nmarq\\Desktop\\python\\PROYECTOS\\Web Development\\uploads\\dataset_pequeno.csv\", index=False)\n",
    "\n",
    "# Mostrar los datos\n",
    "print(df)"
   ]
  },
  {
   "cell_type": "code",
   "execution_count": 3,
   "metadata": {},
   "outputs": [
    {
     "name": "stdout",
     "output_type": "stream",
     "text": [
      "Valores    int64\n",
      "Maximos    int64\n",
      "Medios     int64\n",
      "Mínimos    int64\n",
      "dtype: object\n"
     ]
    }
   ],
   "source": [
    "\n",
    "\n",
    "# Eliminar espacios en los nombres de las columnas\n",
    "df.columns = df.columns.str.strip()\n",
    "\n",
    "# Convertir las columnas a numéricas (si hay errores, convertir NaN a 0)\n",
    "for col in df.columns:\n",
    "    df[col] = pd.to_numeric(df[col], errors='coerce')\n",
    "\n",
    "print(df.dtypes)  # Verifica que las columnas sean numéricas"
   ]
  },
  {
   "cell_type": "code",
   "execution_count": null,
   "metadata": {},
   "outputs": [],
   "source": []
  },
  {
   "cell_type": "code",
   "execution_count": null,
   "metadata": {},
   "outputs": [],
   "source": []
  },
  {
   "cell_type": "markdown",
   "metadata": {},
   "source": [
    "### Old"
   ]
  },
  {
   "cell_type": "code",
   "execution_count": 29,
   "metadata": {},
   "outputs": [],
   "source": [
    "def create_plot(dataframe, plot_path, x_column, y_column, chart_type):\n",
    "    \"\"\"\n",
    "    Genera un gráfico basado en dos columnas y un tipo de gráfico.\n",
    "\n",
    "    Args:\n",
    "        dataframe (pd.DataFrame): Datos a graficar.\n",
    "        plot_path (str): Ruta para guardar el gráfico.\n",
    "        x_column (str): Nombre de la columna para el eje X.\n",
    "        y_column (str): Nombre de la columna para el eje Y.\n",
    "        chart_type (str): Tipo de gráfico a generar.\n",
    "\n",
    "    Returns:\n",
    "        None\n",
    "    \"\"\"\n",
    "    \n",
    "    print(dataframe[[x_column, y_column]].head())\n",
    "    plt.figure(figsize=(12, 8))  # Tamaño aumentado para mejor visualización\n",
    "\n",
    "    # Generar el gráfico según el tipo seleccionado\n",
    "    ax = None\n",
    "    if chart_type == 'line':\n",
    "        ax = dataframe.plot(x=x_column, y=y_column, kind='line', marker='o', legend=False)\n",
    "    elif chart_type == 'bar':\n",
    "        ax = dataframe.plot(x=x_column, y=y_column, kind='bar', legend=False)\n",
    "        ax.xaxis.set_major_locator(MaxNLocator(integer=True))\n",
    "    elif chart_type == 'scatter':\n",
    "        plt.scatter(dataframe[x_column], dataframe[y_column])\n",
    "        plt.xlabel(x_column)\n",
    "        plt.ylabel(y_column)\n",
    "        plt.title(\"Gráfico de Dispersión\")\n",
    "        plt.grid(False)  # Eliminamos grid en scatter por defecto\n",
    "    else:\n",
    "        raise ValueError(\"Tipo de gráfico no soportado\")\n",
    "\n",
    "    # Formatear las fechas si el eje X contiene datos datetime\n",
    "    if pd.api.types.is_datetime64_any_dtype(dataframe[x_column]):\n",
    "        ax.xaxis.set_major_formatter(mdates.DateFormatter('%Y-%m-%d'))  # Formato: día-mes-año\n",
    "        plt.gcf().autofmt_xdate()  # Rotar las fechas automáticamente para mejor legibilidad\n",
    "\n",
    "    print(dataframe[[x_column, y_column]].head())\n",
    "    \n",
    "    # Añadir etiquetas de datos\n",
    "    if chart_type in ['line', 'bar']:  # Etiquetas solo para gráficos de línea y barra\n",
    "        for i in range(len(dataframe)):\n",
    "            plt.text(i, dataframe[y_column].iloc[i], str(dataframe[y_column].iloc[i]), \n",
    "                     ha='center', va='bottom', fontsize=10)\n",
    "\n",
    "    # Configuración general del gráfico\n",
    "    if chart_type != 'scatter':\n",
    "        ax.set_title(\"Gráfico generado\")\n",
    "        ax.set_xlabel(x_column)\n",
    "        ax.set_ylabel(y_column)\n",
    "        plt.grid(False)  # Eliminamos el grid por defecto\n",
    "\n",
    "    # Guardar el gráfico\n",
    "    plt.savefig(plot_path, bbox_inches='tight')  # Guardamos con espaciado ajustado\n",
    "    plt.close()"
   ]
  },
  {
   "cell_type": "code",
   "execution_count": 30,
   "metadata": {},
   "outputs": [],
   "source": [
    "def get_columns(filepath):\n",
    "    \"\"\"\n",
    "    Extrae las columnas disponibles en el archivo subido, filtrando solo columnas numéricas o de tipo fecha.\n",
    "    Detecta automáticamente columnas con formato de fecha solo si no son numéricas.\n",
    "\n",
    "    Args:\n",
    "        filepath (str): Ruta del archivo subido.\n",
    "\n",
    "    Returns:\n",
    "        list: Lista de nombres de columnas que son numéricas o de tipo fecha.\n",
    "    \"\"\"\n",
    "    if filepath.endswith('.csv'):\n",
    "        df = pd.read_csv(filepath)\n",
    "    elif filepath.endswith('.xlsx'):\n",
    "        df = pd.read_excel(filepath)\n",
    "    else:\n",
    "        raise ValueError(\"Formato de archivo no soportado\")\n",
    "\n",
    "    # Filtrar columnas numéricas y convertir solo las no numéricas a formato de fecha\n",
    "    valid_columns = []\n",
    "    for col in df.columns:\n",
    "        if pd.api.types.is_numeric_dtype(df[col]):\n",
    "            valid_columns.append(col)\n",
    "        else:\n",
    "            try:\n",
    "                # Intentar convertir la columna a formato de fecha\n",
    "                converted_col = pd.to_datetime(df[col], errors='coerce')\n",
    "                if converted_col.notna().sum() > 0:  # Aceptar solo si hay valores válidos\n",
    "                    valid_columns.append(col)\n",
    "            except Exception:\n",
    "                pass  # Ignorar si la conversión falla\n",
    "\n",
    "    return valid_columns\n",
    "\n",
    "\n",
    "def process_file(filepath, x_column, y_column, chart_type):\n",
    "    \"\"\"\n",
    "    Genera un gráfico basado en las columnas y el tipo seleccionados.\n",
    "\n",
    "    Args:\n",
    "        filepath (str): Ruta del archivo subido.\n",
    "        x_column (str): Nombre de la columna para el eje X.\n",
    "        y_column (str): Nombre de la columna para el eje Y.\n",
    "        chart_type (str): Tipo de gráfico a generar.\n",
    "\n",
    "    Returns:\n",
    "        str: Ruta relativa del gráfico generado.\n",
    "    \"\"\"\n",
    "    # Leer el archivo dependiendo de su formato\n",
    "    if filepath.endswith('.csv'):\n",
    "        df = pd.read_csv(filepath)\n",
    "    elif filepath.endswith('.xlsx'):\n",
    "        df = pd.read_excel(filepath)\n",
    "    else:\n",
    "        raise ValueError(\"Formato de archivo no soportado\")\n",
    "\n",
    "    # # Intentar convertir automáticamente columnas no numéricas al formato de fecha\n",
    "    # for col in df.columns:\n",
    "    #     if not pd.api.types.is_numeric_dtype(df[col]):\n",
    "    #         try:\n",
    "    #             df[col] = pd.to_datetime(df[col], errors='coerce')\n",
    "    #         except Exception:\n",
    "    #             pass  # Ignorar si la conversión falla\n",
    "    \n",
    "    \n",
    "    # Mostrar los valores originales de la columna de fechas\n",
    "    print(f\"Valores originales de la columna {x_column}:\")\n",
    "    print(df[x_column].head())\n",
    "# Convertir explícitamente la columna de fechas si no es numérica\n",
    "    if not pd.api.types.is_numeric_dtype(df[x_column]):\n",
    "        try:\n",
    "            df[x_column] = pd.to_datetime(df[x_column], format='%Y-%m-%d', errors='coerce')  # Conversión directa a fecha\n",
    "            print(f\"Fechas convertidas en la columna {x_column}:\")\n",
    "            print(df[x_column].head())\n",
    "        except Exception as e:\n",
    "            raise ValueError(f\"Error al convertir la columna {x_column} a formato fecha: {e}\")\n",
    "\n",
    "    # Identificar valores no convertidos\n",
    "    non_converted = df[df[x_column].isna()][x_column]\n",
    "    if not non_converted.empty:\n",
    "        print(\"Valores no convertidos a fecha:\")\n",
    "        print(non_converted)\n",
    "\n",
    "    # Ruta donde se guardará el gráfico\n",
    "    plot_path = 'app/static/plot.png'\n",
    "\n",
    "    # Generar el gráfico\n",
    "    create_plot(df, plot_path, x_column, y_column, chart_type)\n",
    "\n",
    "    # Retornar la ruta relativa para Flask\n",
    "    return 'static/plot.png'\n",
    "\n",
    "\n"
   ]
  },
  {
   "cell_type": "code",
   "execution_count": 3,
   "metadata": {},
   "outputs": [],
   "source": [
    "filepath = r\"C:\\Users\\nmarq\\Desktop\\python\\PROYECTOS\\Web Development\\uploads\\prueba_csv - copia.csv\""
   ]
  },
  {
   "cell_type": "code",
   "execution_count": 4,
   "metadata": {},
   "outputs": [
    {
     "data": {
      "text/html": [
       "<div>\n",
       "<style scoped>\n",
       "    .dataframe tbody tr th:only-of-type {\n",
       "        vertical-align: middle;\n",
       "    }\n",
       "\n",
       "    .dataframe tbody tr th {\n",
       "        vertical-align: top;\n",
       "    }\n",
       "\n",
       "    .dataframe thead th {\n",
       "        text-align: right;\n",
       "    }\n",
       "</style>\n",
       "<table border=\"1\" class=\"dataframe\">\n",
       "  <thead>\n",
       "    <tr style=\"text-align: right;\">\n",
       "      <th></th>\n",
       "      <th>Fecha</th>\n",
       "      <th>Valores</th>\n",
       "      <th>Maximos</th>\n",
       "    </tr>\n",
       "  </thead>\n",
       "  <tbody>\n",
       "    <tr>\n",
       "      <th>0</th>\n",
       "      <td>2025-01-01</td>\n",
       "      <td>100</td>\n",
       "      <td>300</td>\n",
       "    </tr>\n",
       "    <tr>\n",
       "      <th>1</th>\n",
       "      <td>2025-01-02</td>\n",
       "      <td>150</td>\n",
       "      <td>450</td>\n",
       "    </tr>\n",
       "    <tr>\n",
       "      <th>2</th>\n",
       "      <td>2025-01-03</td>\n",
       "      <td>200</td>\n",
       "      <td>200</td>\n",
       "    </tr>\n",
       "    <tr>\n",
       "      <th>3</th>\n",
       "      <td>2025-01-04</td>\n",
       "      <td>250</td>\n",
       "      <td>300</td>\n",
       "    </tr>\n",
       "    <tr>\n",
       "      <th>4</th>\n",
       "      <td>2025-01-05</td>\n",
       "      <td>300</td>\n",
       "      <td>700</td>\n",
       "    </tr>\n",
       "  </tbody>\n",
       "</table>\n",
       "</div>"
      ],
      "text/plain": [
       "        Fecha  Valores   Maximos\n",
       "0  2025-01-01      100       300\n",
       "1  2025-01-02      150       450\n",
       "2  2025-01-03      200       200\n",
       "3  2025-01-04      250       300\n",
       "4  2025-01-05      300       700"
      ]
     },
     "execution_count": 4,
     "metadata": {},
     "output_type": "execute_result"
    }
   ],
   "source": [
    "df = pd.read_csv(filepath)\n",
    "df.head()"
   ]
  },
  {
   "cell_type": "code",
   "execution_count": 5,
   "metadata": {},
   "outputs": [
    {
     "data": {
      "text/plain": [
       "Fecha       object\n",
       "Valores      int64\n",
       " Maximos     int64\n",
       "dtype: object"
      ]
     },
     "execution_count": 5,
     "metadata": {},
     "output_type": "execute_result"
    }
   ],
   "source": [
    "df.dtypes"
   ]
  },
  {
   "cell_type": "code",
   "execution_count": 6,
   "metadata": {},
   "outputs": [],
   "source": [
    "x_column = \"Fecha\"\n",
    "y_column = \" Maximos\""
   ]
  },
  {
   "cell_type": "code",
   "execution_count": 7,
   "metadata": {},
   "outputs": [
    {
     "name": "stdout",
     "output_type": "stream",
     "text": [
      "Fechas convertidas en la columna Fecha:\n",
      "0   2025-01-01\n",
      "1   2025-01-02\n",
      "2   2025-01-03\n",
      "3   2025-01-04\n",
      "4   2025-01-05\n",
      "Name: Fecha, dtype: datetime64[ns]\n"
     ]
    }
   ],
   "source": [
    "if not pd.api.types.is_numeric_dtype(df[x_column]):\n",
    "        try:\n",
    "            df[x_column] = pd.to_datetime(df[x_column], format='%Y-%m-%d', errors='coerce')  # Conversión directa a fecha\n",
    "            print(f\"Fechas convertidas en la columna {x_column}:\")\n",
    "            print(df[x_column].head())\n",
    "        except Exception as e:\n",
    "            raise ValueError(f\"Error al convertir la columna {x_column} a formato fecha: {e}\")"
   ]
  },
  {
   "cell_type": "code",
   "execution_count": 25,
   "metadata": {},
   "outputs": [],
   "source": [
    "df[x_column] = pd.to_datetime(df[x_column], format='%Y-%m-%d').dt.normalize()"
   ]
  },
  {
   "cell_type": "code",
   "execution_count": 26,
   "metadata": {},
   "outputs": [
    {
     "name": "stdout",
     "output_type": "stream",
     "text": [
      "0   2025-01-01\n",
      "1   2025-01-02\n",
      "2   2025-01-03\n",
      "3   2025-01-04\n",
      "4   2025-01-05\n",
      "Name: Fecha, dtype: datetime64[ns]\n"
     ]
    }
   ],
   "source": [
    "print(df[x_column].head())"
   ]
  },
  {
   "cell_type": "code",
   "execution_count": 27,
   "metadata": {},
   "outputs": [
    {
     "data": {
      "text/plain": [
       "Fecha       datetime64[ns]\n",
       "Valores              int64\n",
       " Maximos             int64\n",
       "dtype: object"
      ]
     },
     "execution_count": 27,
     "metadata": {},
     "output_type": "execute_result"
    }
   ],
   "source": [
    "df.dtypes"
   ]
  },
  {
   "cell_type": "code",
   "execution_count": 28,
   "metadata": {},
   "outputs": [
    {
     "data": {
      "text/plain": [
       "<Figure size 1200x800 with 0 Axes>"
      ]
     },
     "metadata": {},
     "output_type": "display_data"
    },
    {
     "data": {
      "image/png": "[encoded data removed]",
      "text/plain": [
       "<Figure size 640x480 with 1 Axes>"
      ]
     },
     "metadata": {},
     "output_type": "display_data"
    }
   ],
   "source": [
    "### Creamos un Plot de todos los meses con cada año agrupado\n",
    "plt.figure(figsize = (12,8))\n",
    "\n",
    "ax = df.plot(x=x_column, y=y_column, kind='bar', legend=False)\n",
    "# ax.xaxis.set_major_formatter(mdates.DateFormatter('%Y-%m-%d'))  # Formato: día-mes-año\n",
    "plt.gcf().autofmt_xdate()  # Rotar las fechas automáticamente para mejor legibilidad\n",
    "    "
   ]
  },
  {
   "cell_type": "code",
   "execution_count": null,
   "metadata": {},
   "outputs": [],
   "source": []
  },
  {
   "cell_type": "code",
   "execution_count": 29,
   "metadata": {},
   "outputs": [
    {
     "data": {
      "image/png": "[encoded data removed]",
      "text/plain": [
       "<Figure size 640x480 with 1 Axes>"
      ]
     },
     "metadata": {},
     "output_type": "display_data"
    }
   ],
   "source": [
    "# Convertir la columna 'Fecha' a datetime\n",
    "df['Fecha'] = pd.to_datetime(df['Fecha'])\n",
    "\n",
    "# Crear un gráfico de barras manualmente con control total\n",
    "fig, ax = plt.subplots()\n",
    "ax.bar(df['Fecha'], df['Valores'], width=0.8)  # Usa las fechas como eje x\n",
    "\n",
    "# Configurar el formateador de fechas para mostrar solo 'YYYY-MM-DD'\n",
    "ax.xaxis.set_major_formatter(mdates.DateFormatter('%Y-%m-%d'))\n",
    "\n",
    "# Ajustar la rotación de etiquetas para mejor legibilidad\n",
    "plt.xticks(rotation=45)\n",
    "\n",
    "# Etiquetas y título\n",
    "ax.set_xlabel('Fecha')\n",
    "ax.set_ylabel('Valores')\n",
    "ax.set_title('Gráfico de barras con fechas correctamente formateadas')\n",
    "\n",
    "# Mostrar el gráfico\n",
    "plt.show()"
   ]
  },
  {
   "cell_type": "code",
   "execution_count": null,
   "metadata": {},
   "outputs": [],
   "source": []
  }
 ],
 "metadata": {
  "kernelspec": {
   "display_name": "Python 3",
   "language": "python",
   "name": "python3"
  },
  "language_info": {
   "codemirror_mode": {
    "name": "ipython",
    "version": 3
   },
   "file_extension": ".py",
   "mimetype": "text/x-python",
   "name": "python",
   "nbconvert_exporter": "python",
   "pygments_lexer": "ipython3",
   "version": "3.8.10"
  }
 },
 "nbformat": 4,
 "nbformat_minor": 2
}
